{
 "cells": [
  {
   "cell_type": "code",
   "execution_count": 1,
   "id": "7c189232-50b3-4eb2-b8d8-dd390247763c",
   "metadata": {},
   "outputs": [
    {
     "data": {
      "image/png": "[encoded data removed]",
      "text/plain": [
       "<Figure size 640x480 with 1 Axes>"
      ]
     },
     "metadata": {},
     "output_type": "display_data"
    }
   ],
   "source": [
    "import numpy as np \n",
    "import matplotlib.pyplot as plt\n",
    "vals = np.random.normal(0, 0.5, 10000)\n",
    "plt.hist(vals, 50)\n",
    "plt.show()"
   ]
  },
  {
   "cell_type": "code",
   "execution_count": 3,
   "id": "10d4d60c-85c6-4645-a104-f96c6ff22883",
   "metadata": {},
   "outputs": [
    {
     "data": {
      "text/plain": [
       "-0.00017400222377105874"
      ]
     },
     "execution_count": 3,
     "metadata": {},
     "output_type": "execute_result"
    }
   ],
   "source": [
    "np.percentile(vals, 50)"
   ]
  },
  {
   "cell_type": "code",
   "execution_count": 5,
   "id": "392dea68-1393-4921-b5be-3af8e40382f8",
   "metadata": {},
   "outputs": [
    {
     "data": {
      "text/plain": [
       "0.6337263997793653"
      ]
     },
     "execution_count": 5,
     "metadata": {},
     "output_type": "execute_result"
    }
   ],
   "source": [
    "np.percentile(vals, 90)"
   ]
  },
  {
   "cell_type": "code",
   "execution_count": 7,
   "id": "908533b3-44b0-4ba3-8bcc-30044cd758a3",
   "metadata": {},
   "outputs": [
    {
     "data": {
      "text/plain": [
       "-0.4180303223844806"
      ]
     },
     "execution_count": 7,
     "metadata": {},
     "output_type": "execute_result"
    }
   ],
   "source": [
    "np.percentile(vals, 20)"
   ]
  },
  {
   "cell_type": "code",
   "execution_count": 9,
   "id": "b3b8d8c8-9dbb-4d04-a400-c4b46d6807ae",
   "metadata": {},
   "outputs": [
    {
     "data": {
      "text/plain": [
       "0.24586357979008253"
      ]
     },
     "execution_count": 9,
     "metadata": {},
     "output_type": "execute_result"
    }
   ],
   "source": [
    "np.var(vals)"
   ]
  },
  {
   "cell_type": "code",
   "execution_count": 11,
   "id": "d716c98f-937a-42a2-8f04-af5244ace232",
   "metadata": {},
   "outputs": [
    {
     "data": {
      "text/plain": [
       "-0.0041936553477059935"
      ]
     },
     "execution_count": 11,
     "metadata": {},
     "output_type": "execute_result"
    }
   ],
   "source": [
    "np.mean(vals)"
   ]
  },
  {
   "cell_type": "code",
   "execution_count": 15,
   "id": "effb1dc0-12d0-4e0e-b4f0-b9a3ec559640",
   "metadata": {},
   "outputs": [
    {
     "data": {
      "text/plain": [
       "-0.0011225003682918161"
      ]
     },
     "execution_count": 15,
     "metadata": {},
     "output_type": "execute_result"
    }
   ],
   "source": [
    "import scipy.stats as sp\n",
    "sp.skew(vals)"
   ]
  },
  {
   "cell_type": "code",
   "execution_count": 17,
   "id": "067f3b98-cac5-44ab-95b7-87fdd740c9bd",
   "metadata": {},
   "outputs": [
    {
     "data": {
      "text/plain": [
       "-0.018584342320300706"
      ]
     },
     "execution_count": 17,
     "metadata": {},
     "output_type": "execute_result"
    }
   ],
   "source": [
    "sp.kurtosis(vals)"
   ]
  }
 ],
 "metadata": {
  "kernelspec": {
   "display_name": "Python [conda env:base] *",
   "language": "python",
   "name": "conda-base-py"
  },
  "language_info": {
   "codemirror_mode": {
    "name": "ipython",
    "version": 3
   },
   "file_extension": ".py",
   "mimetype": "text/x-python",
   "name": "python",
   "nbconvert_exporter": "python",
   "pygments_lexer": "ipython3",
   "version": "3.12.7"
  }
 },
 "nbformat": 4,
 "nbformat_minor": 5
}
